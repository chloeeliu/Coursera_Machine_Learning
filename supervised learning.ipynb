{
 "cells": [
  {
   "cell_type": "markdown",
   "metadata": {},
   "source": [
    "# supervised learning\n",
    "\n",
    "- [1 - linear regression ](#1)\n",
    "- [2 - logistic regression](#2)\n",
    "- [3 - regularized logistic regression](#3)\n"
   ]
  },
  {
   "cell_type": "markdown",
   "metadata": {},
   "source": [
    "<a name='1'></a>\n",
    "## linear regression"
   ]
  },
  {
   "cell_type": "code",
   "execution_count": 51,
   "metadata": {},
   "outputs": [],
   "source": [
    "import numpy as np\n",
    "import matplotlib.pyplot as plt\n",
    "import copy\n",
    "import math\n",
    "%matplotlib inline"
   ]
  },
  {
   "cell_type": "code",
   "execution_count": 52,
   "metadata": {},
   "outputs": [],
   "source": [
    "a=[ 6.1101,  5.5277,  8.5186,  7.0032,  5.8598,  8.3829,  7.4764,\n",
    "         8.5781,  6.4862,  5.0546,  5.7107, 14.164 ,  5.734 ,  8.4084,\n",
    "         5.6407,  5.3794,  6.3654,  5.1301,  6.4296,  7.0708,  6.1891,\n",
    "        20.27  ,  5.4901,  6.3261,  5.5649, 18.945 , 12.828 , 10.957 ,\n",
    "        13.176 , 22.203 ,  5.2524,  6.5894,  9.2482,  5.8918,  8.2111,\n",
    "         7.9334,  8.0959,  5.6063, 12.836 ,  6.3534,  5.4069,  6.8825,\n",
    "        11.708 ,  5.7737,  7.8247,  7.0931,  5.0702,  5.8014, 11.7   ,\n",
    "         5.5416,  7.5402,  5.3077,  7.4239,  7.6031,  6.3328,  6.3589,\n",
    "         6.2742,  5.6397,  9.3102,  9.4536,  8.8254,  5.1793, 21.279 ,\n",
    "        14.908 , 18.959 ,  7.2182,  8.2951, 10.236 ,  5.4994, 20.341 ,\n",
    "        10.136 ,  7.3345,  6.0062,  7.2259,  5.0269,  6.5479,  7.5386,\n",
    "         5.0365, 10.274 ,  5.1077,  5.7292,  5.1884,  6.3557,  9.7687,\n",
    "         6.5159,  8.5172,  9.1802,  6.002 ,  5.5204,  5.0594,  5.7077,\n",
    "         7.6366,  5.8707,  5.3054,  8.2934, 13.394 ,  5.4369]\n",
    "\n",
    "b=[17.592  ,  9.1302 , 13.662  , 11.854  ,  6.8233 , 11.886  ,\n",
    "         4.3483 , 12.     ,  6.5987 ,  3.8166 ,  3.2522 , 15.505  ,\n",
    "         3.1551 ,  7.2258 ,  0.71618,  3.5129 ,  5.3048 ,  0.56077,\n",
    "         3.6518 ,  5.3893 ,  3.1386 , 21.767  ,  4.263  ,  5.1875 ,\n",
    "         3.0825 , 22.638  , 13.501  ,  7.0467 , 14.692  , 24.147  ,\n",
    "        -1.22   ,  5.9966 , 12.134  ,  1.8495 ,  6.5426 ,  4.5623 ,\n",
    "         4.1164 ,  3.3928 , 10.117  ,  5.4974 ,  0.55657,  3.9115 ,\n",
    "         5.3854 ,  2.4406 ,  6.7318 ,  1.0463 ,  5.1337 ,  1.844  ,\n",
    "         8.0043 ,  1.0179 ,  6.7504 ,  1.8396 ,  4.2885 ,  4.9981 ,\n",
    "         1.4233 , -1.4211 ,  2.4756 ,  4.6042 ,  3.9624 ,  5.4141 ,\n",
    "         5.1694 , -0.74279, 17.929  , 12.054  , 17.054  ,  4.8852 ,\n",
    "         5.7442 ,  7.7754 ,  1.0173 , 20.992  ,  6.6799 ,  4.0259 ,\n",
    "         1.2784 ,  3.3411 , -2.6807 ,  0.29678,  3.8845 ,  5.7014 ,\n",
    "         6.7526 ,  2.0576 ,  0.47953,  0.20421,  0.67861,  7.5435 ,\n",
    "         5.3436 ,  4.2415 ,  6.7981 ,  0.92695,  0.152  ,  2.8214 ,\n",
    "         1.8451 ,  4.2959 ,  7.2029 ,  1.9869 ,  0.14454,  9.0551 ,\n",
    "         0.61705]\n",
    "\n",
    "data=np.array(a),np.array(b)"
   ]
  },
  {
   "cell_type": "code",
   "execution_count": 53,
   "metadata": {},
   "outputs": [],
   "source": [
    "x_train, y_train = data"
   ]
  },
  {
   "cell_type": "code",
   "execution_count": 54,
   "metadata": {},
   "outputs": [
    {
     "name": "stdout",
     "output_type": "stream",
     "text": [
      "type of x_train: <class 'numpy.ndarray'>\n",
      "shape of x_train: (97,)\n",
      "first five elements of x_train are : \n",
      " [6.1101 5.5277 8.5186 7.0032 5.8598]\n",
      "\n",
      "\n",
      "type of y_train: <class 'numpy.ndarray'>\n",
      "shape of y_train: (97,)\n",
      "first five elements of y_train are : \n",
      " [17.592   9.1302 13.662  11.854   6.8233]\n"
     ]
    }
   ],
   "source": [
    "#know about the data\n",
    "print('type of x_train:', type(x_train))\n",
    "print('shape of x_train:', x_train.shape)\n",
    "print('first five elements of x_train are : \\n' , x_train[:5])\n",
    "\n",
    "print('\\n')\n",
    "\n",
    "print('type of y_train:', type(y_train))\n",
    "print('shape of y_train:', y_train.shape)\n",
    "print('first five elements of y_train are : \\n' , y_train[:5])"
   ]
  },
  {
   "cell_type": "code",
   "execution_count": 55,
   "metadata": {},
   "outputs": [
    {
     "data": {
      "image/png": "[encoded data removed]",
      "text/plain": [
       "<Figure size 432x288 with 1 Axes>"
      ]
     },
     "metadata": {
      "needs_background": "light"
     },
     "output_type": "display_data"
    }
   ],
   "source": [
    "#visualize the data\n",
    "\n",
    "plt.scatter(x_train,y_train,marker='x',c='r')\n",
    "\n",
    "plt.title('profits vs population per city')\n",
    "plt.ylabel('profits in $10,000')\n",
    "plt.xlabel('population of city in 10,000s')\n",
    "plt.show()\n"
   ]
  },
  {
   "cell_type": "code",
   "execution_count": 56,
   "metadata": {},
   "outputs": [
    {
     "name": "stdout",
     "output_type": "stream",
     "text": [
      "cost at initial w: 75.203\n"
     ]
    }
   ],
   "source": [
    "#compute cost\n",
    "\n",
    "def compute_cost(x,y,w,b):\n",
    "    m=x.shape[0]\n",
    "    total_cost=0\n",
    "    cost=(x*w+b-y)**2\n",
    "    cost_j=0\n",
    "    \n",
    "    for i in cost:\n",
    "        cost_j = cost_j + i\n",
    "    total_cost = cost_j/(2*m)\n",
    "    \n",
    "    return total_cost\n",
    "\n",
    "initial_w = 2\n",
    "initial_b = 1\n",
    "\n",
    "cost = compute_cost(x_train,y_train,initial_w,initial_b)\n",
    "print(f'cost at initial w: {cost:.3f}')"
   ]
  },
  {
   "cell_type": "code",
   "execution_count": 57,
   "metadata": {},
   "outputs": [
    {
     "name": "stdout",
     "output_type": "stream",
     "text": [
      "Gradient at initial w, b (zeros): -65.32884974555672 -5.83913505154639\n"
     ]
    }
   ],
   "source": [
    "#gradient descent\n",
    "def compute_gradient(x, y, w, b): \n",
    "\n",
    "    m = x.shape[0]\n",
    "    dj_dw = 0\n",
    "    dj_db = 0\n",
    "        \n",
    "    grd_db=w*x+b-y\n",
    "    grd_db_sum=0\n",
    "\n",
    "    for i in grd_db:\n",
    "        grd_db_sum=grd_db_sum+i\n",
    "\n",
    "    dj_db=grd_db_sum/m       \n",
    "\n",
    "    grd_dw=(w*x+b-y)*x\n",
    "\n",
    "    grd_dw_sum=0\n",
    "    for i in grd_dw:\n",
    "        grd_dw_sum=grd_dw_sum+i\n",
    "\n",
    "    dj_dw=grd_dw_sum/m       \n",
    "        \n",
    "    return dj_dw, dj_db\n",
    "\n",
    "initial_w = 0\n",
    "initial_b = 0\n",
    "\n",
    "tmp_dj_dw,tmp_dj_db = compute_gradient(x_train,y_train,initial_w,initial_b)\n",
    "\n",
    "print('Gradient at initial w, b (zeros):', tmp_dj_dw, tmp_dj_db)\n"
   ]
  },
  {
   "cell_type": "code",
   "execution_count": 58,
   "metadata": {},
   "outputs": [],
   "source": [
    "#batch gradient descent\n",
    "\n",
    "def gradient_descent(x,y,w_in,b_in, cost_function, gradient_function,alpha,num_iters):\n",
    "    m = len(x)\n",
    "    J_history = []\n",
    "    w_history = []\n",
    "    w = copy.deepcopy(w_in)\n",
    "    b = b_in\n",
    "    \n",
    "    for i in range(num_iters):\n",
    "        dj_dw, dj_db = gradient_function (x,y,w,b)\n",
    "        w = w - alpha * dj_dw\n",
    "        b = b - alpha * dj_db\n",
    "        \n",
    "        if i < 100000:\n",
    "            cost = cost_function(x,y,w,b)\n",
    "            J_history.append(cost)\n",
    "            \n",
    "        if i%math.ceil(num_iters/10)==0:\n",
    "            w_history.append(w)\n",
    "            print(f'iteration {i:4} :cost {float(J_history[-1]):8.2f}')\n",
    "            \n",
    "    return w, b, J_history, w_history"
   ]
  },
  {
   "cell_type": "code",
   "execution_count": 59,
   "metadata": {},
   "outputs": [
    {
     "name": "stdout",
     "output_type": "stream",
     "text": [
      "iteration    0 :cost     6.74\n",
      "iteration  150 :cost     5.31\n",
      "iteration  300 :cost     4.96\n",
      "iteration  450 :cost     4.76\n",
      "iteration  600 :cost     4.64\n",
      "iteration  750 :cost     4.57\n",
      "iteration  900 :cost     4.53\n",
      "iteration 1050 :cost     4.51\n",
      "iteration 1200 :cost     4.50\n",
      "iteration 1350 :cost     4.49\n",
      "w,b found by gradient descent: 1.166362350335582 -3.63029143940436\n"
     ]
    }
   ],
   "source": [
    "initial_w=0.\n",
    "initial_b=0.\n",
    "\n",
    "iterations=1500\n",
    "alpha=0.01\n",
    "\n",
    "w,b,_,_ = gradient_descent(x_train,y_train,initial_w,initial_b,compute_cost,compute_gradient,alpha,iterations)\n",
    "\n",
    "print('w,b found by gradient descent:',w,b)"
   ]
  },
  {
   "cell_type": "code",
   "execution_count": 60,
   "metadata": {},
   "outputs": [
    {
     "data": {
      "text/plain": [
       "Text(0.5, 0, 'population of city in 10,000')"
      ]
     },
     "execution_count": 60,
     "metadata": {},
     "output_type": "execute_result"
    },
    {
     "data": {
      "image/png": "[encoded data removed]",
      "text/plain": [
       "<Figure size 432x288 with 1 Axes>"
      ]
     },
     "metadata": {
      "needs_background": "light"
     },
     "output_type": "display_data"
    }
   ],
   "source": [
    "#plot the predict result\n",
    "\n",
    "m = x_train.shape[0]\n",
    "predicted = np.zeros(m)\n",
    "\n",
    "for i in range(m):\n",
    "    predicted[i] = w * x_train[i] + b\n",
    "    \n",
    "plt.plot(x_train,predicted,c='b')\n",
    "plt.scatter(x_train,y_train,marker='x',c='r')\n",
    "\n",
    "plt.title('profit vs population per city')\n",
    "plt.ylabel('profit in $10,000')\n",
    "#plt.xlabel('population of city in 10,000')"
   ]
  },
  {
   "cell_type": "markdown",
   "metadata": {},
   "source": [
    "<a name='2'></a>\n",
    "## logistic regression"
   ]
  },
  {
   "cell_type": "code",
   "execution_count": 64,
   "metadata": {},
   "outputs": [
    {
     "name": "stderr",
     "output_type": "stream",
     "text": [
      "/Users/10019653/opt/anaconda3/lib/python3.8/site-packages/pandas/core/computation/expressions.py:20: UserWarning: Pandas requires version '2.7.3' or newer of 'numexpr' (version '2.7.1' currently installed).\n",
      "  from pandas.core.computation.check import NUMEXPR_INSTALLED\n"
     ]
    }
   ],
   "source": [
    "import numpy as np\n",
    "import pandas as pd\n",
    "import matplotlib.pyplot as plt\n",
    "import copy\n",
    "import math\n",
    "\n",
    "%matplotlib inline"
   ]
  },
  {
   "cell_type": "code",
   "execution_count": 113,
   "metadata": {
    "scrolled": true
   },
   "outputs": [
    {
     "name": "stdout",
     "output_type": "stream",
     "text": [
      "[['3'], ['4'], ['.'], ['6'], ['2'], ['3'], ['6'], ['5'], ['9'], ['6'], ['2'], ['4'], ['5'], ['1'], ['6'], ['9'], ['7'], ['', ''], ['7'], ['8'], ['.'], ['0'], ['2'], ['4'], ['6'], ['9'], ['2'], ['8'], ['1'], ['5'], ['3'], ['6'], ['2'], ['4'], ['', ''], ['0'], ['\\n']]\n",
      "[['3'], ['0'], ['.'], ['2'], ['8'], ['6'], ['7'], ['1'], ['0'], ['7'], ['6'], ['8'], ['2'], ['2'], ['6'], ['0'], ['7'], ['', ''], ['4'], ['3'], ['.'], ['8'], ['9'], ['4'], ['9'], ['9'], ['7'], ['5'], ['2'], ['4'], ['0'], ['0'], ['1'], ['0'], ['1'], ['', ''], ['0'], ['\\n']]\n",
      "[['3'], ['5'], ['.'], ['8'], ['4'], ['7'], ['4'], ['0'], ['8'], ['7'], ['6'], ['9'], ['9'], ['3'], ['8'], ['7'], ['2'], ['', ''], ['7'], ['2'], ['.'], ['9'], ['0'], ['2'], ['1'], ['9'], ['8'], ['0'], ['2'], ['7'], ['0'], ['8'], ['3'], ['6'], ['4'], ['', ''], ['0'], ['\\n']]\n",
      "[['6'], ['0'], ['.'], ['1'], ['8'], ['2'], ['5'], ['9'], ['9'], ['3'], ['8'], ['6'], ['2'], ['0'], ['9'], ['7'], ['6'], ['', ''], ['8'], ['6'], ['.'], ['3'], ['0'], ['8'], ['5'], ['5'], ['2'], ['0'], ['9'], ['5'], ['4'], ['6'], ['8'], ['2'], ['6'], ['', ''], ['1'], ['\\n']]\n",
      "[['7'], ['9'], ['.'], ['0'], ['3'], ['2'], ['7'], ['3'], ['6'], ['0'], ['5'], ['0'], ['7'], ['1'], ['0'], ['1'], ['', ''], ['7'], ['5'], ['.'], ['3'], ['4'], ['4'], ['3'], ['7'], ['6'], ['4'], ['3'], ['6'], ['9'], ['1'], ['0'], ['3'], ['', ''], ['1'], ['\\n']]\n",
      "[['4'], ['5'], ['.'], ['0'], ['8'], ['3'], ['2'], ['7'], ['7'], ['4'], ['7'], ['6'], ['6'], ['8'], ['3'], ['3'], ['9'], ['', ''], ['5'], ['6'], ['.'], ['3'], ['1'], ['6'], ['3'], ['7'], ['1'], ['7'], ['8'], ['1'], ['5'], ['3'], ['0'], ['5'], ['', ''], ['0'], ['\\n']]\n",
      "[['6'], ['1'], ['.'], ['1'], ['0'], ['6'], ['6'], ['6'], ['4'], ['5'], ['3'], ['6'], ['8'], ['4'], ['7'], ['6'], ['6'], ['', ''], ['9'], ['6'], ['.'], ['5'], ['1'], ['1'], ['4'], ['2'], ['5'], ['8'], ['8'], ['4'], ['8'], ['9'], ['6'], ['2'], ['4'], ['', ''], ['1'], ['\\n']]\n",
      "[['7'], ['5'], ['.'], ['0'], ['2'], ['4'], ['7'], ['4'], ['5'], ['5'], ['6'], ['7'], ['3'], ['8'], ['8'], ['8'], ['9'], ['', ''], ['4'], ['6'], ['.'], ['5'], ['5'], ['4'], ['0'], ['1'], ['3'], ['5'], ['4'], ['1'], ['1'], ['6'], ['5'], ['3'], ['8'], ['', ''], ['1'], ['\\n']]\n",
      "[['7'], ['6'], ['.'], ['0'], ['9'], ['8'], ['7'], ['8'], ['6'], ['7'], ['0'], ['2'], ['2'], ['6'], ['2'], ['5'], ['7'], ['', ''], ['8'], ['7'], ['.'], ['4'], ['2'], ['0'], ['5'], ['6'], ['9'], ['7'], ['1'], ['9'], ['2'], ['6'], ['8'], ['0'], ['3'], ['', ''], ['1'], ['\\n']]\n",
      "[['8'], ['4'], ['.'], ['4'], ['3'], ['2'], ['8'], ['1'], ['9'], ['9'], ['6'], ['1'], ['2'], ['0'], ['0'], ['3'], ['5'], ['', ''], ['4'], ['3'], ['.'], ['5'], ['3'], ['3'], ['3'], ['9'], ['3'], ['3'], ['1'], ['0'], ['7'], ['2'], ['1'], ['0'], ['9'], ['', ''], ['1'], ['\\n']]\n",
      "[['9'], ['5'], ['.'], ['8'], ['6'], ['1'], ['5'], ['5'], ['5'], ['0'], ['7'], ['0'], ['9'], ['3'], ['5'], ['7'], ['2'], ['', ''], ['3'], ['8'], ['.'], ['2'], ['2'], ['5'], ['2'], ['7'], ['8'], ['0'], ['5'], ['7'], ['9'], ['5'], ['0'], ['9'], ['4'], ['', ''], ['0'], ['\\n']]\n",
      "[['7'], ['5'], ['.'], ['0'], ['1'], ['3'], ['6'], ['5'], ['8'], ['3'], ['8'], ['9'], ['5'], ['8'], ['2'], ['4'], ['7'], ['', ''], ['3'], ['0'], ['.'], ['6'], ['0'], ['3'], ['2'], ['6'], ['3'], ['2'], ['3'], ['4'], ['2'], ['8'], ['0'], ['1'], ['1'], ['', ''], ['0'], ['\\n']]\n",
      "[['8'], ['2'], ['.'], ['3'], ['0'], ['7'], ['0'], ['5'], ['3'], ['3'], ['7'], ['3'], ['9'], ['9'], ['4'], ['8'], ['2'], ['', ''], ['7'], ['6'], ['.'], ['4'], ['8'], ['1'], ['9'], ['6'], ['3'], ['3'], ['0'], ['2'], ['3'], ['5'], ['6'], ['0'], ['4'], ['', ''], ['1'], ['\\n']]\n",
      "[['6'], ['9'], ['.'], ['3'], ['6'], ['4'], ['5'], ['8'], ['8'], ['7'], ['5'], ['9'], ['7'], ['0'], ['9'], ['3'], ['9'], ['', ''], ['9'], ['7'], ['.'], ['7'], ['1'], ['8'], ['6'], ['9'], ['1'], ['9'], ['6'], ['1'], ['8'], ['8'], ['6'], ['0'], ['8'], ['', ''], ['1'], ['\\n']]\n",
      "[['3'], ['9'], ['.'], ['5'], ['3'], ['8'], ['3'], ['3'], ['9'], ['1'], ['4'], ['3'], ['6'], ['7'], ['2'], ['2'], ['3'], ['', ''], ['7'], ['6'], ['.'], ['0'], ['3'], ['6'], ['8'], ['1'], ['0'], ['8'], ['5'], ['1'], ['1'], ['5'], ['8'], ['8'], ['2'], ['', ''], ['0'], ['\\n']]\n",
      "[['5'], ['3'], ['.'], ['9'], ['7'], ['1'], ['0'], ['5'], ['2'], ['1'], ['4'], ['8'], ['5'], ['6'], ['2'], ['3'], ['', ''], ['8'], ['9'], ['.'], ['2'], ['0'], ['7'], ['3'], ['5'], ['0'], ['1'], ['3'], ['7'], ['5'], ['0'], ['2'], ['0'], ['5'], ['', ''], ['1'], ['\\n']]\n",
      "[['6'], ['9'], ['.'], ['0'], ['7'], ['0'], ['1'], ['4'], ['4'], ['0'], ['6'], ['2'], ['8'], ['3'], ['0'], ['2'], ['5'], ['', ''], ['5'], ['2'], ['.'], ['7'], ['4'], ['0'], ['4'], ['6'], ['9'], ['7'], ['3'], ['0'], ['1'], ['6'], ['7'], ['6'], ['5'], ['', ''], ['1'], ['\\n']]\n",
      "[['6'], ['7'], ['.'], ['9'], ['4'], ['6'], ['8'], ['5'], ['5'], ['4'], ['7'], ['7'], ['1'], ['1'], ['6'], ['1'], ['7'], ['', ''], ['4'], ['6'], ['.'], ['6'], ['7'], ['8'], ['5'], ['7'], ['4'], ['1'], ['0'], ['6'], ['7'], ['3'], ['1'], ['2'], ['8'], ['', ''], ['0'], ['\\n']]\n",
      "[['7'], ['0'], ['.'], ['6'], ['6'], ['1'], ['5'], ['0'], ['9'], ['5'], ['5'], ['4'], ['9'], ['9'], ['4'], ['3'], ['5'], ['', ''], ['9'], ['2'], ['.'], ['9'], ['2'], ['7'], ['1'], ['3'], ['7'], ['8'], ['9'], ['3'], ['6'], ['4'], ['8'], ['3'], ['1'], ['', ''], ['1'], ['\\n']]\n",
      "[['7'], ['6'], ['.'], ['9'], ['7'], ['8'], ['7'], ['8'], ['3'], ['7'], ['2'], ['7'], ['4'], ['7'], ['4'], ['9'], ['8'], ['', ''], ['4'], ['7'], ['.'], ['5'], ['7'], ['5'], ['9'], ['6'], ['3'], ['6'], ['4'], ['9'], ['7'], ['5'], ['5'], ['3'], ['2'], ['', ''], ['1'], ['\\n']]\n",
      "[['6'], ['7'], ['.'], ['3'], ['7'], ['2'], ['0'], ['2'], ['7'], ['5'], ['4'], ['5'], ['7'], ['0'], ['8'], ['7'], ['6'], ['', ''], ['4'], ['2'], ['.'], ['8'], ['3'], ['8'], ['4'], ['3'], ['8'], ['3'], ['2'], ['0'], ['2'], ['9'], ['1'], ['7'], ['9'], ['', ''], ['0'], ['\\n']]\n",
      "[['8'], ['9'], ['.'], ['6'], ['7'], ['6'], ['7'], ['7'], ['5'], ['7'], ['5'], ['0'], ['7'], ['2'], ['0'], ['7'], ['9'], ['', ''], ['6'], ['5'], ['.'], ['7'], ['9'], ['9'], ['3'], ['6'], ['5'], ['9'], ['2'], ['7'], ['4'], ['5'], ['2'], ['3'], ['7'], ['', ''], ['1'], ['\\n']]\n",
      "[['5'], ['0'], ['.'], ['5'], ['3'], ['4'], ['7'], ['8'], ['8'], ['2'], ['8'], ['9'], ['8'], ['8'], ['3'], ['', ''], ['4'], ['8'], ['.'], ['8'], ['5'], ['5'], ['8'], ['1'], ['1'], ['5'], ['2'], ['7'], ['6'], ['4'], ['2'], ['0'], ['5'], ['', ''], ['0'], ['\\n']]\n",
      "[['3'], ['4'], ['.'], ['2'], ['1'], ['2'], ['0'], ['6'], ['0'], ['9'], ['7'], ['7'], ['8'], ['6'], ['7'], ['8'], ['9'], ['', ''], ['4'], ['4'], ['.'], ['2'], ['0'], ['9'], ['5'], ['2'], ['8'], ['5'], ['9'], ['8'], ['6'], ['6'], ['2'], ['8'], ['8'], ['', ''], ['0'], ['\\n']]\n",
      "[['7'], ['7'], ['.'], ['9'], ['2'], ['4'], ['0'], ['9'], ['1'], ['4'], ['5'], ['4'], ['5'], ['7'], ['0'], ['4'], ['', ''], ['6'], ['8'], ['.'], ['9'], ['7'], ['2'], ['3'], ['5'], ['9'], ['9'], ['9'], ['3'], ['3'], ['0'], ['5'], ['9'], ['', ''], ['1'], ['\\n']]\n",
      "[['6'], ['2'], ['.'], ['2'], ['7'], ['1'], ['0'], ['1'], ['3'], ['6'], ['7'], ['0'], ['0'], ['4'], ['6'], ['3'], ['2'], ['', ''], ['6'], ['9'], ['.'], ['9'], ['5'], ['4'], ['4'], ['5'], ['7'], ['9'], ['5'], ['4'], ['4'], ['7'], ['5'], ['8'], ['7'], ['', ''], ['1'], ['\\n']]\n",
      "[['8'], ['0'], ['.'], ['1'], ['9'], ['0'], ['1'], ['8'], ['0'], ['7'], ['5'], ['0'], ['9'], ['5'], ['6'], ['6'], ['', ''], ['4'], ['4'], ['.'], ['8'], ['2'], ['1'], ['6'], ['2'], ['8'], ['9'], ['3'], ['2'], ['1'], ['8'], ['3'], ['5'], ['3'], ['', ''], ['1'], ['\\n']]\n",
      "[['9'], ['3'], ['.'], ['1'], ['1'], ['4'], ['3'], ['8'], ['8'], ['7'], ['9'], ['7'], ['4'], ['4'], ['2'], ['', ''], ['3'], ['8'], ['.'], ['8'], ['0'], ['0'], ['6'], ['7'], ['0'], ['3'], ['3'], ['7'], ['1'], ['3'], ['2'], ['0'], ['9'], ['', ''], ['0'], ['\\n']]\n",
      "[['6'], ['1'], ['.'], ['8'], ['3'], ['0'], ['2'], ['0'], ['6'], ['0'], ['2'], ['3'], ['1'], ['2'], ['5'], ['9'], ['5'], ['', ''], ['5'], ['0'], ['.'], ['2'], ['5'], ['6'], ['1'], ['0'], ['7'], ['8'], ['9'], ['2'], ['4'], ['4'], ['6'], ['2'], ['1'], ['', ''], ['0'], ['\\n']]\n",
      "[['3'], ['8'], ['.'], ['7'], ['8'], ['5'], ['8'], ['0'], ['3'], ['7'], ['9'], ['6'], ['7'], ['9'], ['4'], ['2'], ['3'], ['', ''], ['6'], ['4'], ['.'], ['9'], ['9'], ['5'], ['6'], ['8'], ['0'], ['9'], ['5'], ['5'], ['3'], ['9'], ['5'], ['7'], ['8'], ['', ''], ['0'], ['\\n']]\n",
      "[['6'], ['1'], ['.'], ['3'], ['7'], ['9'], ['2'], ['8'], ['9'], ['4'], ['4'], ['7'], ['4'], ['2'], ['5'], ['', ''], ['7'], ['2'], ['.'], ['8'], ['0'], ['7'], ['8'], ['8'], ['7'], ['3'], ['1'], ['3'], ['1'], ['7'], ['0'], ['9'], ['7'], ['', ''], ['1'], ['\\n']]\n",
      "[['8'], ['5'], ['.'], ['4'], ['0'], ['4'], ['5'], ['1'], ['9'], ['3'], ['9'], ['4'], ['1'], ['1'], ['6'], ['4'], ['5'], ['', ''], ['5'], ['7'], ['.'], ['0'], ['5'], ['1'], ['9'], ['8'], ['3'], ['9'], ['7'], ['6'], ['2'], ['7'], ['1'], ['2'], ['2'], ['', ''], ['1'], ['\\n']]\n",
      "[['5'], ['2'], ['.'], ['1'], ['0'], ['7'], ['9'], ['7'], ['9'], ['7'], ['3'], ['1'], ['9'], ['3'], ['9'], ['8'], ['4'], ['', ''], ['6'], ['3'], ['.'], ['1'], ['2'], ['7'], ['6'], ['2'], ['3'], ['7'], ['6'], ['8'], ['8'], ['1'], ['7'], ['1'], ['5'], ['', ''], ['0'], ['\\n']]\n",
      "[['5'], ['2'], ['.'], ['0'], ['4'], ['5'], ['4'], ['0'], ['4'], ['7'], ['6'], ['8'], ['3'], ['1'], ['8'], ['2'], ['7'], ['', ''], ['6'], ['9'], ['.'], ['4'], ['3'], ['2'], ['8'], ['6'], ['0'], ['1'], ['2'], ['0'], ['4'], ['5'], ['2'], ['2'], ['2'], ['', ''], ['1'], ['\\n']]\n",
      "[['4'], ['0'], ['.'], ['2'], ['3'], ['6'], ['8'], ['9'], ['3'], ['7'], ['3'], ['5'], ['4'], ['5'], ['1'], ['1'], ['1'], ['', ''], ['7'], ['1'], ['.'], ['1'], ['6'], ['7'], ['7'], ['4'], ['8'], ['0'], ['2'], ['1'], ['8'], ['4'], ['8'], ['7'], ['5'], ['', ''], ['0'], ['\\n']]\n",
      "[['5'], ['4'], ['.'], ['6'], ['3'], ['5'], ['1'], ['0'], ['5'], ['5'], ['5'], ['4'], ['2'], ['4'], ['8'], ['1'], ['7'], ['', ''], ['5'], ['2'], ['.'], ['2'], ['1'], ['3'], ['8'], ['8'], ['5'], ['8'], ['8'], ['0'], ['6'], ['1'], ['1'], ['2'], ['3'], ['', ''], ['0'], ['\\n']]\n",
      "[['3'], ['3'], ['.'], ['9'], ['1'], ['5'], ['5'], ['0'], ['0'], ['1'], ['0'], ['9'], ['0'], ['6'], ['8'], ['8'], ['7'], ['', ''], ['9'], ['8'], ['.'], ['8'], ['6'], ['9'], ['4'], ['3'], ['5'], ['7'], ['4'], ['2'], ['2'], ['0'], ['6'], ['1'], ['1'], ['', ''], ['0'], ['\\n']]\n",
      "[['6'], ['4'], ['.'], ['1'], ['7'], ['6'], ['9'], ['8'], ['8'], ['8'], ['7'], ['4'], ['9'], ['4'], ['4'], ['8'], ['5'], ['', ''], ['8'], ['0'], ['.'], ['9'], ['0'], ['8'], ['0'], ['6'], ['0'], ['5'], ['8'], ['6'], ['7'], ['0'], ['8'], ['1'], ['7'], ['', ''], ['1'], ['\\n']]\n",
      "[['7'], ['4'], ['.'], ['7'], ['8'], ['9'], ['2'], ['5'], ['2'], ['9'], ['5'], ['9'], ['4'], ['1'], ['5'], ['4'], ['2'], ['', ''], ['4'], ['1'], ['.'], ['5'], ['7'], ['3'], ['4'], ['1'], ['5'], ['2'], ['2'], ['8'], ['2'], ['4'], ['4'], ['3'], ['4'], ['', ''], ['0'], ['\\n']]\n",
      "[['3'], ['4'], ['.'], ['1'], ['8'], ['3'], ['6'], ['4'], ['0'], ['0'], ['2'], ['6'], ['4'], ['4'], ['1'], ['9'], ['', ''], ['7'], ['5'], ['.'], ['2'], ['3'], ['7'], ['7'], ['2'], ['0'], ['3'], ['3'], ['6'], ['0'], ['1'], ['3'], ['4'], ['', ''], ['0'], ['\\n']]\n",
      "[['8'], ['3'], ['.'], ['9'], ['0'], ['2'], ['3'], ['9'], ['3'], ['6'], ['6'], ['2'], ['4'], ['9'], ['1'], ['5'], ['5'], ['', ''], ['5'], ['6'], ['.'], ['3'], ['0'], ['8'], ['0'], ['4'], ['6'], ['2'], ['1'], ['6'], ['0'], ['5'], ['3'], ['2'], ['7'], ['', ''], ['1'], ['\\n']]\n",
      "[['5'], ['1'], ['.'], ['5'], ['4'], ['7'], ['7'], ['2'], ['0'], ['2'], ['6'], ['9'], ['0'], ['6'], ['1'], ['8'], ['1'], ['', ''], ['4'], ['6'], ['.'], ['8'], ['5'], ['6'], ['2'], ['9'], ['0'], ['2'], ['6'], ['3'], ['4'], ['9'], ['9'], ['7'], ['6'], ['', ''], ['0'], ['\\n']]\n",
      "[['9'], ['4'], ['.'], ['4'], ['4'], ['3'], ['3'], ['6'], ['7'], ['7'], ['6'], ['9'], ['1'], ['7'], ['8'], ['5'], ['2'], ['', ''], ['6'], ['5'], ['.'], ['5'], ['6'], ['8'], ['9'], ['2'], ['1'], ['6'], ['0'], ['5'], ['5'], ['9'], ['0'], ['5'], ['2'], ['', ''], ['1'], ['\\n']]\n",
      "[['8'], ['2'], ['.'], ['3'], ['6'], ['8'], ['7'], ['5'], ['3'], ['7'], ['5'], ['7'], ['1'], ['3'], ['9'], ['1'], ['9'], ['', ''], ['4'], ['0'], ['.'], ['6'], ['1'], ['8'], ['2'], ['5'], ['5'], ['1'], ['5'], ['9'], ['7'], ['0'], ['6'], ['1'], ['8'], ['', ''], ['0'], ['\\n']]\n",
      "[['5'], ['1'], ['.'], ['0'], ['4'], ['7'], ['7'], ['5'], ['1'], ['7'], ['7'], ['1'], ['2'], ['8'], ['8'], ['6'], ['5'], ['', ''], ['4'], ['5'], ['.'], ['8'], ['2'], ['2'], ['7'], ['0'], ['1'], ['4'], ['5'], ['7'], ['7'], ['6'], ['0'], ['0'], ['1'], ['', ''], ['0'], ['\\n']]\n",
      "[['6'], ['2'], ['.'], ['2'], ['2'], ['2'], ['6'], ['7'], ['5'], ['7'], ['6'], ['1'], ['2'], ['0'], ['1'], ['8'], ['8'], ['', ''], ['5'], ['2'], ['.'], ['0'], ['6'], ['0'], ['9'], ['9'], ['1'], ['9'], ['4'], ['8'], ['3'], ['6'], ['6'], ['7'], ['9'], ['', ''], ['0'], ['\\n']]\n",
      "[['7'], ['7'], ['.'], ['1'], ['9'], ['3'], ['0'], ['3'], ['4'], ['9'], ['2'], ['6'], ['0'], ['1'], ['3'], ['6'], ['4'], ['', ''], ['7'], ['0'], ['.'], ['4'], ['5'], ['8'], ['2'], ['0'], ['0'], ['0'], ['0'], ['1'], ['8'], ['0'], ['9'], ['5'], ['9'], ['', ''], ['1'], ['\\n']]\n",
      "[['9'], ['7'], ['.'], ['7'], ['7'], ['1'], ['5'], ['9'], ['9'], ['2'], ['8'], ['0'], ['0'], ['0'], ['2'], ['3'], ['2'], ['', ''], ['8'], ['6'], ['.'], ['7'], ['2'], ['7'], ['8'], ['2'], ['2'], ['3'], ['3'], ['0'], ['0'], ['2'], ['8'], ['2'], ['', ''], ['1'], ['\\n']]\n",
      "[['6'], ['2'], ['.'], ['0'], ['7'], ['3'], ['0'], ['6'], ['3'], ['7'], ['9'], ['6'], ['6'], ['7'], ['6'], ['4'], ['7'], ['', ''], ['9'], ['6'], ['.'], ['7'], ['6'], ['8'], ['8'], ['2'], ['4'], ['1'], ['2'], ['4'], ['1'], ['3'], ['9'], ['8'], ['3'], ['', ''], ['1'], ['\\n']]\n",
      "[['9'], ['1'], ['.'], ['5'], ['6'], ['4'], ['9'], ['7'], ['4'], ['4'], ['9'], ['8'], ['0'], ['7'], ['4'], ['4'], ['2'], ['', ''], ['8'], ['8'], ['.'], ['6'], ['9'], ['6'], ['2'], ['9'], ['2'], ['5'], ['4'], ['5'], ['4'], ['6'], ['5'], ['9'], ['9'], ['', ''], ['1'], ['\\n']]\n",
      "[['7'], ['9'], ['.'], ['9'], ['4'], ['4'], ['8'], ['1'], ['7'], ['9'], ['4'], ['0'], ['6'], ['6'], ['9'], ['3'], ['2'], ['', ''], ['7'], ['4'], ['.'], ['1'], ['6'], ['3'], ['1'], ['1'], ['9'], ['3'], ['5'], ['0'], ['4'], ['3'], ['7'], ['5'], ['8'], ['', ''], ['1'], ['\\n']]\n",
      "[['9'], ['9'], ['.'], ['2'], ['7'], ['2'], ['5'], ['2'], ['6'], ['9'], ['2'], ['9'], ['2'], ['5'], ['7'], ['2'], ['', ''], ['6'], ['0'], ['.'], ['9'], ['9'], ['9'], ['0'], ['3'], ['0'], ['9'], ['9'], ['8'], ['4'], ['4'], ['9'], ['8'], ['8'], ['', ''], ['1'], ['\\n']]\n",
      "[['9'], ['0'], ['.'], ['5'], ['4'], ['6'], ['7'], ['1'], ['4'], ['1'], ['1'], ['3'], ['9'], ['9'], ['8'], ['5'], ['2'], ['', ''], ['4'], ['3'], ['.'], ['3'], ['9'], ['0'], ['6'], ['0'], ['1'], ['8'], ['0'], ['6'], ['5'], ['0'], ['0'], ['2'], ['7'], ['', ''], ['1'], ['\\n']]\n",
      "[['3'], ['4'], ['.'], ['5'], ['2'], ['4'], ['5'], ['1'], ['3'], ['8'], ['5'], ['3'], ['2'], ['0'], ['0'], ['0'], ['9'], ['', ''], ['6'], ['0'], ['.'], ['3'], ['9'], ['6'], ['3'], ['4'], ['2'], ['4'], ['5'], ['8'], ['3'], ['7'], ['1'], ['7'], ['3'], ['', ''], ['0'], ['\\n']]\n",
      "[['5'], ['0'], ['.'], ['2'], ['8'], ['6'], ['4'], ['9'], ['6'], ['1'], ['1'], ['8'], ['9'], ['9'], ['0'], ['7'], ['', ''], ['4'], ['9'], ['.'], ['8'], ['0'], ['4'], ['5'], ['3'], ['8'], ['8'], ['1'], ['3'], ['2'], ['3'], ['0'], ['5'], ['9'], ['', ''], ['0'], ['\\n']]\n",
      "[['4'], ['9'], ['.'], ['5'], ['8'], ['6'], ['6'], ['7'], ['7'], ['2'], ['1'], ['6'], ['3'], ['2'], ['0'], ['3'], ['1'], ['', ''], ['5'], ['9'], ['.'], ['8'], ['0'], ['8'], ['9'], ['5'], ['0'], ['9'], ['9'], ['4'], ['5'], ['3'], ['2'], ['6'], ['5'], ['', ''], ['0'], ['\\n']]\n",
      "[['9'], ['7'], ['.'], ['6'], ['4'], ['5'], ['6'], ['3'], ['3'], ['9'], ['6'], ['0'], ['0'], ['7'], ['7'], ['6'], ['7'], ['', ''], ['6'], ['8'], ['.'], ['8'], ['6'], ['1'], ['5'], ['7'], ['2'], ['7'], ['2'], ['4'], ['2'], ['0'], ['6'], ['0'], ['4'], ['', ''], ['1'], ['\\n']]\n",
      "[['3'], ['2'], ['.'], ['5'], ['7'], ['7'], ['2'], ['0'], ['0'], ['1'], ['6'], ['8'], ['0'], ['9'], ['3'], ['0'], ['9'], ['', ''], ['9'], ['5'], ['.'], ['5'], ['9'], ['8'], ['5'], ['4'], ['7'], ['6'], ['1'], ['3'], ['8'], ['7'], ['8'], ['7'], ['5'], ['', ''], ['0'], ['\\n']]\n",
      "[['7'], ['4'], ['.'], ['2'], ['4'], ['8'], ['6'], ['9'], ['1'], ['3'], ['6'], ['7'], ['2'], ['1'], ['5'], ['9'], ['8'], ['', ''], ['6'], ['9'], ['.'], ['8'], ['2'], ['4'], ['5'], ['7'], ['1'], ['2'], ['2'], ['6'], ['5'], ['7'], ['1'], ['9'], ['3'], ['', ''], ['1'], ['\\n']]\n",
      "[['7'], ['1'], ['.'], ['7'], ['9'], ['6'], ['4'], ['6'], ['2'], ['0'], ['5'], ['8'], ['6'], ['3'], ['3'], ['7'], ['9'], ['', ''], ['7'], ['8'], ['.'], ['4'], ['5'], ['3'], ['5'], ['6'], ['2'], ['2'], ['4'], ['5'], ['1'], ['5'], ['0'], ['5'], ['2'], ['', ''], ['1'], ['\\n']]\n",
      "[['7'], ['5'], ['.'], ['3'], ['9'], ['5'], ['6'], ['1'], ['1'], ['4'], ['6'], ['5'], ['6'], ['8'], ['0'], ['3'], ['', ''], ['8'], ['5'], ['.'], ['7'], ['5'], ['9'], ['9'], ['3'], ['6'], ['6'], ['7'], ['3'], ['3'], ['1'], ['6'], ['1'], ['9'], ['', ''], ['1'], ['\\n']]\n",
      "[['3'], ['5'], ['.'], ['2'], ['8'], ['6'], ['1'], ['1'], ['2'], ['8'], ['1'], ['5'], ['2'], ['6'], ['1'], ['9'], ['3'], ['', ''], ['4'], ['7'], ['.'], ['0'], ['2'], ['0'], ['5'], ['1'], ['3'], ['9'], ['4'], ['7'], ['2'], ['3'], ['4'], ['1'], ['6'], ['', ''], ['0'], ['\\n']]\n",
      "[['5'], ['6'], ['.'], ['2'], ['5'], ['3'], ['8'], ['1'], ['7'], ['4'], ['9'], ['7'], ['1'], ['1'], ['6'], ['2'], ['4'], ['', ''], ['3'], ['9'], ['.'], ['2'], ['6'], ['1'], ['4'], ['7'], ['2'], ['5'], ['1'], ['0'], ['5'], ['8'], ['0'], ['1'], ['9'], ['', ''], ['0'], ['\\n']]\n",
      "[['3'], ['0'], ['.'], ['0'], ['5'], ['8'], ['8'], ['2'], ['2'], ['4'], ['4'], ['6'], ['6'], ['9'], ['7'], ['9'], ['6'], ['', ''], ['4'], ['9'], ['.'], ['5'], ['9'], ['2'], ['9'], ['7'], ['3'], ['8'], ['6'], ['7'], ['2'], ['3'], ['6'], ['8'], ['5'], ['', ''], ['0'], ['\\n']]\n",
      "[['4'], ['4'], ['.'], ['6'], ['6'], ['8'], ['2'], ['6'], ['1'], ['7'], ['2'], ['4'], ['8'], ['0'], ['8'], ['9'], ['3'], ['', ''], ['6'], ['6'], ['.'], ['4'], ['5'], ['0'], ['0'], ['8'], ['6'], ['1'], ['4'], ['5'], ['5'], ['8'], ['9'], ['1'], ['3'], ['', ''], ['0'], ['\\n']]\n",
      "[['6'], ['6'], ['.'], ['5'], ['6'], ['0'], ['8'], ['9'], ['4'], ['4'], ['7'], ['2'], ['4'], ['2'], ['9'], ['5'], ['4'], ['', ''], ['4'], ['1'], ['.'], ['0'], ['9'], ['2'], ['0'], ['9'], ['8'], ['0'], ['7'], ['9'], ['3'], ['6'], ['9'], ['7'], ['3'], ['', ''], ['0'], ['\\n']]\n",
      "[['4'], ['0'], ['.'], ['4'], ['5'], ['7'], ['5'], ['5'], ['0'], ['9'], ['8'], ['3'], ['7'], ['5'], ['1'], ['6'], ['4'], ['', ''], ['9'], ['7'], ['.'], ['5'], ['3'], ['5'], ['1'], ['8'], ['5'], ['4'], ['8'], ['9'], ['0'], ['9'], ['9'], ['3'], ['6'], ['', ''], ['1'], ['\\n']]\n",
      "[['4'], ['9'], ['.'], ['0'], ['7'], ['2'], ['5'], ['6'], ['3'], ['2'], ['1'], ['9'], ['0'], ['8'], ['8'], ['4'], ['4'], ['', ''], ['5'], ['1'], ['.'], ['8'], ['8'], ['3'], ['2'], ['1'], ['1'], ['8'], ['2'], ['0'], ['7'], ['3'], ['9'], ['6'], ['6'], ['', ''], ['0'], ['\\n']]\n",
      "[['8'], ['0'], ['.'], ['2'], ['7'], ['9'], ['5'], ['7'], ['4'], ['0'], ['1'], ['4'], ['6'], ['6'], ['9'], ['9'], ['8'], ['', ''], ['9'], ['2'], ['.'], ['1'], ['1'], ['6'], ['0'], ['6'], ['0'], ['8'], ['1'], ['3'], ['4'], ['4'], ['0'], ['8'], ['4'], ['', ''], ['1'], ['\\n']]\n",
      "[['6'], ['6'], ['.'], ['7'], ['4'], ['6'], ['7'], ['1'], ['8'], ['5'], ['6'], ['9'], ['4'], ['4'], ['0'], ['3'], ['9'], ['', ''], ['6'], ['0'], ['.'], ['9'], ['9'], ['1'], ['3'], ['9'], ['4'], ['0'], ['2'], ['7'], ['4'], ['0'], ['9'], ['8'], ['8'], ['', ''], ['1'], ['\\n']]\n",
      "[['3'], ['2'], ['.'], ['7'], ['2'], ['2'], ['8'], ['3'], ['3'], ['0'], ['4'], ['0'], ['6'], ['0'], ['3'], ['2'], ['3'], ['', ''], ['4'], ['3'], ['.'], ['3'], ['0'], ['7'], ['1'], ['7'], ['3'], ['0'], ['6'], ['4'], ['3'], ['0'], ['0'], ['6'], ['3'], ['', ''], ['0'], ['\\n']]\n",
      "[['6'], ['4'], ['.'], ['0'], ['3'], ['9'], ['3'], ['2'], ['0'], ['4'], ['1'], ['5'], ['0'], ['6'], ['0'], ['1'], ['', ''], ['7'], ['8'], ['.'], ['0'], ['3'], ['1'], ['6'], ['8'], ['8'], ['0'], ['2'], ['0'], ['1'], ['8'], ['2'], ['3'], ['2'], ['', ''], ['1'], ['\\n']]\n",
      "[['7'], ['2'], ['.'], ['3'], ['4'], ['6'], ['4'], ['9'], ['4'], ['2'], ['2'], ['5'], ['7'], ['9'], ['9'], ['2'], ['3'], ['', ''], ['9'], ['6'], ['.'], ['2'], ['2'], ['7'], ['5'], ['9'], ['2'], ['9'], ['6'], ['7'], ['6'], ['1'], ['4'], ['0'], ['4'], ['', ''], ['1'], ['\\n']]\n",
      "[['6'], ['0'], ['.'], ['4'], ['5'], ['7'], ['8'], ['8'], ['5'], ['7'], ['3'], ['9'], ['1'], ['8'], ['9'], ['5'], ['9'], ['', ''], ['7'], ['3'], ['.'], ['0'], ['9'], ['4'], ['9'], ['9'], ['8'], ['0'], ['9'], ['7'], ['5'], ['8'], ['0'], ['3'], ['7'], ['', ''], ['1'], ['\\n']]\n",
      "[['5'], ['8'], ['.'], ['8'], ['4'], ['0'], ['9'], ['5'], ['6'], ['2'], ['1'], ['7'], ['2'], ['6'], ['8'], ['0'], ['2'], ['', ''], ['7'], ['5'], ['.'], ['8'], ['5'], ['8'], ['4'], ['4'], ['8'], ['3'], ['1'], ['2'], ['7'], ['9'], ['0'], ['4'], ['2'], ['', ''], ['1'], ['\\n']]\n",
      "[['9'], ['9'], ['.'], ['8'], ['2'], ['7'], ['8'], ['5'], ['7'], ['7'], ['9'], ['6'], ['9'], ['2'], ['1'], ['2'], ['8'], ['', ''], ['7'], ['2'], ['.'], ['3'], ['6'], ['9'], ['2'], ['5'], ['1'], ['9'], ['3'], ['3'], ['8'], ['3'], ['8'], ['8'], ['5'], ['', ''], ['1'], ['\\n']]\n",
      "[['4'], ['7'], ['.'], ['2'], ['6'], ['4'], ['2'], ['6'], ['9'], ['1'], ['0'], ['8'], ['4'], ['8'], ['1'], ['7'], ['4'], ['', ''], ['8'], ['8'], ['.'], ['4'], ['7'], ['5'], ['8'], ['6'], ['4'], ['9'], ['9'], ['5'], ['5'], ['9'], ['7'], ['8'], ['2'], ['', ''], ['1'], ['\\n']]\n",
      "[['5'], ['0'], ['.'], ['4'], ['5'], ['8'], ['1'], ['5'], ['9'], ['8'], ['0'], ['2'], ['8'], ['5'], ['9'], ['8'], ['8'], ['', ''], ['7'], ['5'], ['.'], ['8'], ['0'], ['9'], ['8'], ['5'], ['9'], ['5'], ['2'], ['9'], ['8'], ['2'], ['4'], ['5'], ['6'], ['', ''], ['1'], ['\\n']]\n",
      "[['6'], ['0'], ['.'], ['4'], ['5'], ['5'], ['5'], ['5'], ['6'], ['2'], ['9'], ['2'], ['7'], ['1'], ['5'], ['3'], ['2'], ['', ''], ['4'], ['2'], ['.'], ['5'], ['0'], ['8'], ['4'], ['0'], ['9'], ['4'], ['3'], ['5'], ['7'], ['2'], ['2'], ['1'], ['7'], ['', ''], ['0'], ['\\n']]\n",
      "[['8'], ['2'], ['.'], ['2'], ['2'], ['6'], ['6'], ['6'], ['1'], ['5'], ['7'], ['7'], ['8'], ['5'], ['5'], ['6'], ['8'], ['', ''], ['4'], ['2'], ['.'], ['7'], ['1'], ['9'], ['8'], ['7'], ['8'], ['5'], ['3'], ['7'], ['1'], ['6'], ['4'], ['5'], ['8'], ['', ''], ['0'], ['\\n']]\n",
      "[['8'], ['8'], ['.'], ['9'], ['1'], ['3'], ['8'], ['9'], ['6'], ['4'], ['1'], ['6'], ['6'], ['5'], ['3'], ['3'], ['', ''], ['6'], ['9'], ['.'], ['8'], ['0'], ['3'], ['7'], ['8'], ['8'], ['8'], ['9'], ['8'], ['3'], ['5'], ['4'], ['7'], ['2'], ['', ''], ['1'], ['\\n']]\n",
      "[['9'], ['4'], ['.'], ['8'], ['3'], ['4'], ['5'], ['0'], ['6'], ['7'], ['2'], ['4'], ['3'], ['0'], ['1'], ['9'], ['6'], ['', ''], ['4'], ['5'], ['.'], ['6'], ['9'], ['4'], ['3'], ['0'], ['6'], ['8'], ['0'], ['2'], ['5'], ['0'], ['7'], ['5'], ['4'], ['', ''], ['1'], ['\\n']]\n",
      "[['6'], ['7'], ['.'], ['3'], ['1'], ['9'], ['2'], ['5'], ['7'], ['4'], ['6'], ['9'], ['1'], ['7'], ['5'], ['2'], ['7'], ['', ''], ['6'], ['6'], ['.'], ['5'], ['8'], ['9'], ['3'], ['5'], ['3'], ['1'], ['7'], ['7'], ['4'], ['7'], ['9'], ['1'], ['5'], ['', ''], ['1'], ['\\n']]\n",
      "[['5'], ['7'], ['.'], ['2'], ['3'], ['8'], ['7'], ['0'], ['6'], ['3'], ['1'], ['5'], ['6'], ['9'], ['8'], ['6'], ['2'], ['', ''], ['5'], ['9'], ['.'], ['5'], ['1'], ['4'], ['2'], ['8'], ['1'], ['9'], ['8'], ['0'], ['1'], ['2'], ['9'], ['5'], ['6'], ['', ''], ['1'], ['\\n']]\n",
      "[['8'], ['0'], ['.'], ['3'], ['6'], ['6'], ['7'], ['5'], ['6'], ['0'], ['0'], ['1'], ['7'], ['1'], ['2'], ['7'], ['3'], ['', ''], ['9'], ['0'], ['.'], ['9'], ['6'], ['0'], ['1'], ['4'], ['7'], ['8'], ['9'], ['7'], ['4'], ['6'], ['9'], ['5'], ['4'], ['', ''], ['1'], ['\\n']]\n",
      "[['6'], ['8'], ['.'], ['4'], ['6'], ['8'], ['5'], ['2'], ['1'], ['7'], ['8'], ['5'], ['9'], ['1'], ['1'], ['1'], ['2'], ['', ''], ['8'], ['5'], ['.'], ['5'], ['9'], ['4'], ['3'], ['0'], ['7'], ['1'], ['0'], ['4'], ['5'], ['2'], ['0'], ['1'], ['4'], ['', ''], ['1'], ['\\n']]\n",
      "[['4'], ['2'], ['.'], ['0'], ['7'], ['5'], ['4'], ['5'], ['4'], ['5'], ['3'], ['8'], ['4'], ['7'], ['3'], ['1'], ['', ''], ['7'], ['8'], ['.'], ['8'], ['4'], ['4'], ['7'], ['8'], ['6'], ['0'], ['0'], ['1'], ['4'], ['8'], ['0'], ['4'], ['3'], ['', ''], ['0'], ['\\n']]\n",
      "[['7'], ['5'], ['.'], ['4'], ['7'], ['7'], ['7'], ['0'], ['2'], ['0'], ['0'], ['5'], ['3'], ['3'], ['9'], ['0'], ['5'], ['', ''], ['9'], ['0'], ['.'], ['4'], ['2'], ['4'], ['5'], ['3'], ['8'], ['9'], ['9'], ['7'], ['5'], ['3'], ['9'], ['6'], ['4'], ['', ''], ['1'], ['\\n']]\n",
      "[['7'], ['8'], ['.'], ['6'], ['3'], ['5'], ['4'], ['2'], ['4'], ['3'], ['4'], ['8'], ['9'], ['8'], ['0'], ['1'], ['8'], ['', ''], ['9'], ['6'], ['.'], ['6'], ['4'], ['7'], ['4'], ['2'], ['7'], ['1'], ['6'], ['8'], ['8'], ['5'], ['6'], ['4'], ['4'], ['', ''], ['1'], ['\\n']]\n",
      "[['5'], ['2'], ['.'], ['3'], ['4'], ['8'], ['0'], ['0'], ['3'], ['9'], ['8'], ['7'], ['9'], ['4'], ['1'], ['0'], ['7'], ['', ''], ['6'], ['0'], ['.'], ['7'], ['6'], ['9'], ['5'], ['0'], ['5'], ['2'], ['5'], ['6'], ['0'], ['2'], ['5'], ['9'], ['2'], ['', ''], ['0'], ['\\n']]\n",
      "[['9'], ['4'], ['.'], ['0'], ['9'], ['4'], ['3'], ['3'], ['1'], ['1'], ['2'], ['5'], ['1'], ['6'], ['7'], ['9'], ['3'], ['', ''], ['7'], ['7'], ['.'], ['1'], ['5'], ['9'], ['1'], ['0'], ['5'], ['0'], ['9'], ['0'], ['7'], ['3'], ['8'], ['9'], ['3'], ['', ''], ['1'], ['\\n']]\n",
      "[['9'], ['0'], ['.'], ['4'], ['4'], ['8'], ['5'], ['5'], ['0'], ['9'], ['7'], ['0'], ['9'], ['6'], ['3'], ['6'], ['4'], ['', ''], ['8'], ['7'], ['.'], ['5'], ['0'], ['8'], ['7'], ['9'], ['1'], ['7'], ['6'], ['4'], ['8'], ['4'], ['7'], ['0'], ['2'], ['', ''], ['1'], ['\\n']]\n",
      "[['5'], ['5'], ['.'], ['4'], ['8'], ['2'], ['1'], ['6'], ['1'], ['1'], ['4'], ['0'], ['6'], ['9'], ['5'], ['8'], ['5'], ['', ''], ['3'], ['5'], ['.'], ['5'], ['7'], ['0'], ['7'], ['0'], ['3'], ['4'], ['7'], ['2'], ['2'], ['8'], ['8'], ['6'], ['6'], ['', ''], ['0'], ['\\n']]\n",
      "[['7'], ['4'], ['.'], ['4'], ['9'], ['2'], ['6'], ['9'], ['2'], ['4'], ['1'], ['8'], ['4'], ['3'], ['0'], ['4'], ['1'], ['', ''], ['8'], ['4'], ['.'], ['8'], ['4'], ['5'], ['1'], ['3'], ['6'], ['8'], ['4'], ['9'], ['3'], ['0'], ['1'], ['3'], ['5'], ['', ''], ['1'], ['\\n']]\n",
      "[['8'], ['9'], ['.'], ['8'], ['4'], ['5'], ['8'], ['0'], ['6'], ['7'], ['0'], ['7'], ['2'], ['0'], ['9'], ['7'], ['9'], ['', ''], ['4'], ['5'], ['.'], ['3'], ['5'], ['8'], ['2'], ['8'], ['3'], ['6'], ['1'], ['0'], ['9'], ['1'], ['6'], ['5'], ['8'], ['', ''], ['1'], ['\\n']]\n",
      "[['8'], ['3'], ['.'], ['4'], ['8'], ['9'], ['1'], ['6'], ['2'], ['7'], ['4'], ['4'], ['9'], ['8'], ['2'], ['3'], ['8'], ['', ''], ['4'], ['8'], ['.'], ['3'], ['8'], ['0'], ['2'], ['8'], ['5'], ['7'], ['9'], ['7'], ['2'], ['8'], ['1'], ['7'], ['5'], ['', ''], ['1'], ['\\n']]\n",
      "[['4'], ['2'], ['.'], ['2'], ['6'], ['1'], ['7'], ['0'], ['0'], ['8'], ['0'], ['9'], ['9'], ['8'], ['1'], ['7'], ['', ''], ['8'], ['7'], ['.'], ['1'], ['0'], ['3'], ['8'], ['5'], ['0'], ['9'], ['4'], ['0'], ['2'], ['5'], ['4'], ['5'], ['7'], ['', ''], ['1'], ['\\n']]\n",
      "[['9'], ['9'], ['.'], ['3'], ['1'], ['5'], ['0'], ['0'], ['8'], ['8'], ['0'], ['5'], ['1'], ['0'], ['3'], ['9'], ['4'], ['', ''], ['6'], ['8'], ['.'], ['7'], ['7'], ['5'], ['4'], ['0'], ['9'], ['4'], ['7'], ['2'], ['0'], ['6'], ['6'], ['1'], ['7'], ['', ''], ['1'], ['\\n']]\n",
      "[['5'], ['5'], ['.'], ['3'], ['4'], ['0'], ['0'], ['1'], ['7'], ['5'], ['6'], ['0'], ['0'], ['3'], ['7'], ['0'], ['3'], ['', ''], ['6'], ['4'], ['.'], ['9'], ['3'], ['1'], ['9'], ['3'], ['8'], ['0'], ['0'], ['6'], ['9'], ['4'], ['8'], ['6'], ['', ''], ['1'], ['\\n']]\n",
      "[['7'], ['4'], ['.'], ['7'], ['7'], ['5'], ['8'], ['9'], ['3'], ['0'], ['0'], ['0'], ['9'], ['2'], ['7'], ['6'], ['7'], ['', ''], ['8'], ['9'], ['.'], ['5'], ['2'], ['9'], ['8'], ['1'], ['2'], ['8'], ['9'], ['5'], ['1'], ['3'], ['2'], ['7'], ['6'], ['', ''], ['1'], ['\\n']]\n"
     ]
    }
   ],
   "source": [
    "with open('ex2data1.txt') as file:\n",
    "    for line in file:\n",
    "        ls = [l.split(',') for l in line]\n",
    "        print(ls)\n"
   ]
  },
  {
   "cell_type": "code",
   "execution_count": 102,
   "metadata": {
    "scrolled": true
   },
   "outputs": [
    {
     "data": {
      "text/plain": [
       "[['34.62365962451697,78.0246928153624,0'],\n",
       " ['30.28671076822607,43.89499752400101,0'],\n",
       " ['35.84740876993872,72.90219802708364,0'],\n",
       " ['60.18259938620976,86.30855209546826,1'],\n",
       " ['79.0327360507101,75.3443764369103,1'],\n",
       " ['45.08327747668339,56.3163717815305,0'],\n",
       " ['61.10666453684766,96.51142588489624,1'],\n",
       " ['75.02474556738889,46.55401354116538,1'],\n",
       " ['76.09878670226257,87.42056971926803,1'],\n",
       " ['84.43281996120035,43.53339331072109,1'],\n",
       " ['95.86155507093572,38.22527805795094,0'],\n",
       " ['75.01365838958247,30.60326323428011,0'],\n",
       " ['82.30705337399482,76.48196330235604,1'],\n",
       " ['69.36458875970939,97.71869196188608,1'],\n",
       " ['39.53833914367223,76.03681085115882,0'],\n",
       " ['53.9710521485623,89.20735013750205,1'],\n",
       " ['69.07014406283025,52.74046973016765,1'],\n",
       " ['67.94685547711617,46.67857410673128,0'],\n",
       " ['70.66150955499435,92.92713789364831,1'],\n",
       " ['76.97878372747498,47.57596364975532,1'],\n",
       " ['67.37202754570876,42.83843832029179,0'],\n",
       " ['89.67677575072079,65.79936592745237,1'],\n",
       " ['50.534788289883,48.85581152764205,0'],\n",
       " ['34.21206097786789,44.20952859866288,0'],\n",
       " ['77.9240914545704,68.9723599933059,1'],\n",
       " ['62.27101367004632,69.95445795447587,1'],\n",
       " ['80.1901807509566,44.82162893218353,1'],\n",
       " ['93.114388797442,38.80067033713209,0'],\n",
       " ['61.83020602312595,50.25610789244621,0'],\n",
       " ['38.78580379679423,64.99568095539578,0'],\n",
       " ['61.379289447425,72.80788731317097,1'],\n",
       " ['85.40451939411645,57.05198397627122,1'],\n",
       " ['52.10797973193984,63.12762376881715,0'],\n",
       " ['52.04540476831827,69.43286012045222,1'],\n",
       " ['40.23689373545111,71.16774802184875,0'],\n",
       " ['54.63510555424817,52.21388588061123,0'],\n",
       " ['33.91550010906887,98.86943574220611,0'],\n",
       " ['64.17698887494485,80.90806058670817,1'],\n",
       " ['74.78925295941542,41.57341522824434,0'],\n",
       " ['34.1836400264419,75.2377203360134,0'],\n",
       " ['83.90239366249155,56.30804621605327,1'],\n",
       " ['51.54772026906181,46.85629026349976,0'],\n",
       " ['94.44336776917852,65.56892160559052,1'],\n",
       " ['82.36875375713919,40.61825515970618,0'],\n",
       " ['51.04775177128865,45.82270145776001,0'],\n",
       " ['62.22267576120188,52.06099194836679,0'],\n",
       " ['77.19303492601364,70.45820000180959,1'],\n",
       " ['97.77159928000232,86.7278223300282,1'],\n",
       " ['62.07306379667647,96.76882412413983,1'],\n",
       " ['91.56497449807442,88.69629254546599,1'],\n",
       " ['79.94481794066932,74.16311935043758,1'],\n",
       " ['99.2725269292572,60.99903099844988,1'],\n",
       " ['90.54671411399852,43.39060180650027,1'],\n",
       " ['34.52451385320009,60.39634245837173,0'],\n",
       " ['50.2864961189907,49.80453881323059,0'],\n",
       " ['49.58667721632031,59.80895099453265,0'],\n",
       " ['97.64563396007767,68.86157272420604,1'],\n",
       " ['32.57720016809309,95.59854761387875,0'],\n",
       " ['74.24869136721598,69.82457122657193,1'],\n",
       " ['71.79646205863379,78.45356224515052,1'],\n",
       " ['75.3956114656803,85.75993667331619,1'],\n",
       " ['35.28611281526193,47.02051394723416,0'],\n",
       " ['56.25381749711624,39.26147251058019,0'],\n",
       " ['30.05882244669796,49.59297386723685,0'],\n",
       " ['44.66826172480893,66.45008614558913,0'],\n",
       " ['66.56089447242954,41.09209807936973,0'],\n",
       " ['40.45755098375164,97.53518548909936,1'],\n",
       " ['49.07256321908844,51.88321182073966,0'],\n",
       " ['80.27957401466998,92.11606081344084,1'],\n",
       " ['66.74671856944039,60.99139402740988,1'],\n",
       " ['32.72283304060323,43.30717306430063,0'],\n",
       " ['64.0393204150601,78.03168802018232,1'],\n",
       " ['72.34649422579923,96.22759296761404,1'],\n",
       " ['60.45788573918959,73.09499809758037,1'],\n",
       " ['58.84095621726802,75.85844831279042,1'],\n",
       " ['99.82785779692128,72.36925193383885,1'],\n",
       " ['47.26426910848174,88.47586499559782,1'],\n",
       " ['50.45815980285988,75.80985952982456,1'],\n",
       " ['60.45555629271532,42.50840943572217,0'],\n",
       " ['82.22666157785568,42.71987853716458,0'],\n",
       " ['88.9138964166533,69.80378889835472,1'],\n",
       " ['94.83450672430196,45.69430680250754,1'],\n",
       " ['67.31925746917527,66.58935317747915,1'],\n",
       " ['57.23870631569862,59.51428198012956,1'],\n",
       " ['80.36675600171273,90.96014789746954,1'],\n",
       " ['68.46852178591112,85.59430710452014,1'],\n",
       " ['42.0754545384731,78.84478600148043,0'],\n",
       " ['75.47770200533905,90.42453899753964,1'],\n",
       " ['78.63542434898018,96.64742716885644,1'],\n",
       " ['52.34800398794107,60.76950525602592,0'],\n",
       " ['94.09433112516793,77.15910509073893,1'],\n",
       " ['90.44855097096364,87.50879176484702,1'],\n",
       " ['55.48216114069585,35.57070347228866,0'],\n",
       " ['74.49269241843041,84.84513684930135,1'],\n",
       " ['89.84580670720979,45.35828361091658,1'],\n",
       " ['83.48916274498238,48.38028579728175,1'],\n",
       " ['42.2617008099817,87.10385094025457,1'],\n",
       " ['99.31500880510394,68.77540947206617,1'],\n",
       " ['55.34001756003703,64.9319380069486,1'],\n",
       " ['74.77589300092767,89.52981289513276,1']]"
      ]
     },
     "execution_count": 102,
     "metadata": {},
     "output_type": "execute_result"
    }
   ],
   "source": [
    "with open('ex2data1.txt') as file:\n",
    "    lines = [line.rstrip().split('\\n') for line in file]\n",
    "    \n",
    "lines"
   ]
  },
  {
   "cell_type": "code",
   "execution_count": 109,
   "metadata": {},
   "outputs": [
    {
     "data": {
      "text/plain": [
       "['34.62365962451697,78.0246928153624,0']"
      ]
     },
     "execution_count": 109,
     "metadata": {},
     "output_type": "execute_result"
    }
   ],
   "source": [
    "lines[0]"
   ]
  },
  {
   "cell_type": "code",
   "execution_count": 84,
   "metadata": {
    "scrolled": true
   },
   "outputs": [
    {
     "data": {
      "text/plain": [
       "['34.62365962451697,78.0246928153624,0\\n',\n",
       " '30.28671076822607,43.89499752400101,0\\n',\n",
       " '35.84740876993872,72.90219802708364,0\\n',\n",
       " '60.18259938620976,86.30855209546826,1\\n',\n",
       " '79.0327360507101,75.3443764369103,1\\n',\n",
       " '45.08327747668339,56.3163717815305,0\\n',\n",
       " '61.10666453684766,96.51142588489624,1\\n',\n",
       " '75.02474556738889,46.55401354116538,1\\n',\n",
       " '76.09878670226257,87.42056971926803,1\\n',\n",
       " '84.43281996120035,43.53339331072109,1\\n',\n",
       " '95.86155507093572,38.22527805795094,0\\n',\n",
       " '75.01365838958247,30.60326323428011,0\\n',\n",
       " '82.30705337399482,76.48196330235604,1\\n',\n",
       " '69.36458875970939,97.71869196188608,1\\n',\n",
       " '39.53833914367223,76.03681085115882,0\\n',\n",
       " '53.9710521485623,89.20735013750205,1\\n',\n",
       " '69.07014406283025,52.74046973016765,1\\n',\n",
       " '67.94685547711617,46.67857410673128,0\\n',\n",
       " '70.66150955499435,92.92713789364831,1\\n',\n",
       " '76.97878372747498,47.57596364975532,1\\n',\n",
       " '67.37202754570876,42.83843832029179,0\\n',\n",
       " '89.67677575072079,65.79936592745237,1\\n',\n",
       " '50.534788289883,48.85581152764205,0\\n',\n",
       " '34.21206097786789,44.20952859866288,0\\n',\n",
       " '77.9240914545704,68.9723599933059,1\\n',\n",
       " '62.27101367004632,69.95445795447587,1\\n',\n",
       " '80.1901807509566,44.82162893218353,1\\n',\n",
       " '93.114388797442,38.80067033713209,0\\n',\n",
       " '61.83020602312595,50.25610789244621,0\\n',\n",
       " '38.78580379679423,64.99568095539578,0\\n',\n",
       " '61.379289447425,72.80788731317097,1\\n',\n",
       " '85.40451939411645,57.05198397627122,1\\n',\n",
       " '52.10797973193984,63.12762376881715,0\\n',\n",
       " '52.04540476831827,69.43286012045222,1\\n',\n",
       " '40.23689373545111,71.16774802184875,0\\n',\n",
       " '54.63510555424817,52.21388588061123,0\\n',\n",
       " '33.91550010906887,98.86943574220611,0\\n',\n",
       " '64.17698887494485,80.90806058670817,1\\n',\n",
       " '74.78925295941542,41.57341522824434,0\\n',\n",
       " '34.1836400264419,75.2377203360134,0\\n',\n",
       " '83.90239366249155,56.30804621605327,1\\n',\n",
       " '51.54772026906181,46.85629026349976,0\\n',\n",
       " '94.44336776917852,65.56892160559052,1\\n',\n",
       " '82.36875375713919,40.61825515970618,0\\n',\n",
       " '51.04775177128865,45.82270145776001,0\\n',\n",
       " '62.22267576120188,52.06099194836679,0\\n',\n",
       " '77.19303492601364,70.45820000180959,1\\n',\n",
       " '97.77159928000232,86.7278223300282,1\\n',\n",
       " '62.07306379667647,96.76882412413983,1\\n',\n",
       " '91.56497449807442,88.69629254546599,1\\n',\n",
       " '79.94481794066932,74.16311935043758,1\\n',\n",
       " '99.2725269292572,60.99903099844988,1\\n',\n",
       " '90.54671411399852,43.39060180650027,1\\n',\n",
       " '34.52451385320009,60.39634245837173,0\\n',\n",
       " '50.2864961189907,49.80453881323059,0\\n',\n",
       " '49.58667721632031,59.80895099453265,0\\n',\n",
       " '97.64563396007767,68.86157272420604,1\\n',\n",
       " '32.57720016809309,95.59854761387875,0\\n',\n",
       " '74.24869136721598,69.82457122657193,1\\n',\n",
       " '71.79646205863379,78.45356224515052,1\\n',\n",
       " '75.3956114656803,85.75993667331619,1\\n',\n",
       " '35.28611281526193,47.02051394723416,0\\n',\n",
       " '56.25381749711624,39.26147251058019,0\\n',\n",
       " '30.05882244669796,49.59297386723685,0\\n',\n",
       " '44.66826172480893,66.45008614558913,0\\n',\n",
       " '66.56089447242954,41.09209807936973,0\\n',\n",
       " '40.45755098375164,97.53518548909936,1\\n',\n",
       " '49.07256321908844,51.88321182073966,0\\n',\n",
       " '80.27957401466998,92.11606081344084,1\\n',\n",
       " '66.74671856944039,60.99139402740988,1\\n',\n",
       " '32.72283304060323,43.30717306430063,0\\n',\n",
       " '64.0393204150601,78.03168802018232,1\\n',\n",
       " '72.34649422579923,96.22759296761404,1\\n',\n",
       " '60.45788573918959,73.09499809758037,1\\n',\n",
       " '58.84095621726802,75.85844831279042,1\\n',\n",
       " '99.82785779692128,72.36925193383885,1\\n',\n",
       " '47.26426910848174,88.47586499559782,1\\n',\n",
       " '50.45815980285988,75.80985952982456,1\\n',\n",
       " '60.45555629271532,42.50840943572217,0\\n',\n",
       " '82.22666157785568,42.71987853716458,0\\n',\n",
       " '88.9138964166533,69.80378889835472,1\\n',\n",
       " '94.83450672430196,45.69430680250754,1\\n',\n",
       " '67.31925746917527,66.58935317747915,1\\n',\n",
       " '57.23870631569862,59.51428198012956,1\\n',\n",
       " '80.36675600171273,90.96014789746954,1\\n',\n",
       " '68.46852178591112,85.59430710452014,1\\n',\n",
       " '42.0754545384731,78.84478600148043,0\\n',\n",
       " '75.47770200533905,90.42453899753964,1\\n',\n",
       " '78.63542434898018,96.64742716885644,1\\n',\n",
       " '52.34800398794107,60.76950525602592,0\\n',\n",
       " '94.09433112516793,77.15910509073893,1\\n',\n",
       " '90.44855097096364,87.50879176484702,1\\n',\n",
       " '55.48216114069585,35.57070347228866,0\\n',\n",
       " '74.49269241843041,84.84513684930135,1\\n',\n",
       " '89.84580670720979,45.35828361091658,1\\n',\n",
       " '83.48916274498238,48.38028579728175,1\\n',\n",
       " '42.2617008099817,87.10385094025457,1\\n',\n",
       " '99.31500880510394,68.77540947206617,1\\n',\n",
       " '55.34001756003703,64.9319380069486,1\\n',\n",
       " '74.77589300092767,89.52981289513276,1\\n']"
      ]
     },
     "execution_count": 84,
     "metadata": {},
     "output_type": "execute_result"
    }
   ],
   "source": [
    "with open('ex2data1.txt') as f:\n",
    "    lines = f.readlines()\n",
    "\n",
    "lines"
   ]
  },
  {
   "cell_type": "code",
   "execution_count": 96,
   "metadata": {},
   "outputs": [
    {
     "data": {
      "text/plain": [
       "[[34.62365962451697, 78.0246928153624],\n",
       " [35.62365962451697, 78.0246928153624],\n",
       " [36.62365962451697, 78.0246928153624]]"
      ]
     },
     "execution_count": 96,
     "metadata": {},
     "output_type": "execute_result"
    }
   ],
   "source": [
    "a=[[34.62365962451697,78.0246928153624],\n",
    "   [35.62365962451697,78.0246928153624],\n",
    "   [36.62365962451697,78.0246928153624]\n",
    "]\n",
    "\n",
    "b=[0,1,2]\n",
    "\n",
    "data=a,b\n",
    "x_train,y_train=data\n",
    "x_train"
   ]
  },
  {
   "cell_type": "code",
   "execution_count": 89,
   "metadata": {},
   "outputs": [
    {
     "ename": "ValueError",
     "evalue": "too many values to unpack (expected 2)",
     "output_type": "error",
     "traceback": [
      "\u001b[0;31m---------------------------------------------------------------------------\u001b[0m",
      "\u001b[0;31mValueError\u001b[0m                                Traceback (most recent call last)",
      "\u001b[0;32m<ipython-input-89-87acc5a6e121>\u001b[0m in \u001b[0;36m<module>\u001b[0;34m\u001b[0m\n\u001b[1;32m      1\u001b[0m a=([34.62365962451697,78.0246928153624],0,\n\u001b[1;32m      2\u001b[0m    [34.62365962451697,78.0246928153624],0)\n\u001b[0;32m----> 3\u001b[0;31m \u001b[0mx_train\u001b[0m\u001b[0;34m,\u001b[0m\u001b[0my_train\u001b[0m \u001b[0;34m=\u001b[0m \u001b[0ma\u001b[0m\u001b[0;34m\u001b[0m\u001b[0;34m\u001b[0m\u001b[0m\n\u001b[0m",
      "\u001b[0;31mValueError\u001b[0m: too many values to unpack (expected 2)"
     ]
    }
   ],
   "source": [
    "a=([34.62365962451697,78.0246928153624],0,\n",
    "   [34.62365962451697,78.0246928153624],0)\n",
    "x_train,y_train = a"
   ]
  },
  {
   "cell_type": "code",
   "execution_count": 88,
   "metadata": {},
   "outputs": [
    {
     "data": {
      "text/plain": [
       "[[34.62365962451697, 78.0246928153624], 0]"
      ]
     },
     "execution_count": 88,
     "metadata": {},
     "output_type": "execute_result"
    }
   ],
   "source": [
    "y_train"
   ]
  },
  {
   "cell_type": "code",
   "execution_count": 75,
   "metadata": {
    "scrolled": true
   },
   "outputs": [
    {
     "data": {
      "text/plain": [
       "['34.62365962451697,78.0246928153624,0\\n',\n",
       " '30.28671076822607,43.89499752400101,0\\n',\n",
       " '35.84740876993872,72.90219802708364,0\\n',\n",
       " '60.18259938620976,86.30855209546826,1\\n',\n",
       " '79.0327360507101,75.3443764369103,1\\n',\n",
       " '45.08327747668339,56.3163717815305,0\\n',\n",
       " '61.10666453684766,96.51142588489624,1\\n',\n",
       " '75.02474556738889,46.55401354116538,1\\n',\n",
       " '76.09878670226257,87.42056971926803,1\\n',\n",
       " '84.43281996120035,43.53339331072109,1\\n',\n",
       " '95.86155507093572,38.22527805795094,0\\n',\n",
       " '75.01365838958247,30.60326323428011,0\\n',\n",
       " '82.30705337399482,76.48196330235604,1\\n',\n",
       " '69.36458875970939,97.71869196188608,1\\n',\n",
       " '39.53833914367223,76.03681085115882,0\\n',\n",
       " '53.9710521485623,89.20735013750205,1\\n',\n",
       " '69.07014406283025,52.74046973016765,1\\n',\n",
       " '67.94685547711617,46.67857410673128,0\\n',\n",
       " '70.66150955499435,92.92713789364831,1\\n',\n",
       " '76.97878372747498,47.57596364975532,1\\n',\n",
       " '67.37202754570876,42.83843832029179,0\\n',\n",
       " '89.67677575072079,65.79936592745237,1\\n',\n",
       " '50.534788289883,48.85581152764205,0\\n',\n",
       " '34.21206097786789,44.20952859866288,0\\n',\n",
       " '77.9240914545704,68.9723599933059,1\\n',\n",
       " '62.27101367004632,69.95445795447587,1\\n',\n",
       " '80.1901807509566,44.82162893218353,1\\n',\n",
       " '93.114388797442,38.80067033713209,0\\n',\n",
       " '61.83020602312595,50.25610789244621,0\\n',\n",
       " '38.78580379679423,64.99568095539578,0\\n',\n",
       " '61.379289447425,72.80788731317097,1\\n',\n",
       " '85.40451939411645,57.05198397627122,1\\n',\n",
       " '52.10797973193984,63.12762376881715,0\\n',\n",
       " '52.04540476831827,69.43286012045222,1\\n',\n",
       " '40.23689373545111,71.16774802184875,0\\n',\n",
       " '54.63510555424817,52.21388588061123,0\\n',\n",
       " '33.91550010906887,98.86943574220611,0\\n',\n",
       " '64.17698887494485,80.90806058670817,1\\n',\n",
       " '74.78925295941542,41.57341522824434,0\\n',\n",
       " '34.1836400264419,75.2377203360134,0\\n',\n",
       " '83.90239366249155,56.30804621605327,1\\n',\n",
       " '51.54772026906181,46.85629026349976,0\\n',\n",
       " '94.44336776917852,65.56892160559052,1\\n',\n",
       " '82.36875375713919,40.61825515970618,0\\n',\n",
       " '51.04775177128865,45.82270145776001,0\\n',\n",
       " '62.22267576120188,52.06099194836679,0\\n',\n",
       " '77.19303492601364,70.45820000180959,1\\n',\n",
       " '97.77159928000232,86.7278223300282,1\\n',\n",
       " '62.07306379667647,96.76882412413983,1\\n',\n",
       " '91.56497449807442,88.69629254546599,1\\n',\n",
       " '79.94481794066932,74.16311935043758,1\\n',\n",
       " '99.2725269292572,60.99903099844988,1\\n',\n",
       " '90.54671411399852,43.39060180650027,1\\n',\n",
       " '34.52451385320009,60.39634245837173,0\\n',\n",
       " '50.2864961189907,49.80453881323059,0\\n',\n",
       " '49.58667721632031,59.80895099453265,0\\n',\n",
       " '97.64563396007767,68.86157272420604,1\\n',\n",
       " '32.57720016809309,95.59854761387875,0\\n',\n",
       " '74.24869136721598,69.82457122657193,1\\n',\n",
       " '71.79646205863379,78.45356224515052,1\\n',\n",
       " '75.3956114656803,85.75993667331619,1\\n',\n",
       " '35.28611281526193,47.02051394723416,0\\n',\n",
       " '56.25381749711624,39.26147251058019,0\\n',\n",
       " '30.05882244669796,49.59297386723685,0\\n',\n",
       " '44.66826172480893,66.45008614558913,0\\n',\n",
       " '66.56089447242954,41.09209807936973,0\\n',\n",
       " '40.45755098375164,97.53518548909936,1\\n',\n",
       " '49.07256321908844,51.88321182073966,0\\n',\n",
       " '80.27957401466998,92.11606081344084,1\\n',\n",
       " '66.74671856944039,60.99139402740988,1\\n',\n",
       " '32.72283304060323,43.30717306430063,0\\n',\n",
       " '64.0393204150601,78.03168802018232,1\\n',\n",
       " '72.34649422579923,96.22759296761404,1\\n',\n",
       " '60.45788573918959,73.09499809758037,1\\n',\n",
       " '58.84095621726802,75.85844831279042,1\\n',\n",
       " '99.82785779692128,72.36925193383885,1\\n',\n",
       " '47.26426910848174,88.47586499559782,1\\n',\n",
       " '50.45815980285988,75.80985952982456,1\\n',\n",
       " '60.45555629271532,42.50840943572217,0\\n',\n",
       " '82.22666157785568,42.71987853716458,0\\n',\n",
       " '88.9138964166533,69.80378889835472,1\\n',\n",
       " '94.83450672430196,45.69430680250754,1\\n',\n",
       " '67.31925746917527,66.58935317747915,1\\n',\n",
       " '57.23870631569862,59.51428198012956,1\\n',\n",
       " '80.36675600171273,90.96014789746954,1\\n',\n",
       " '68.46852178591112,85.59430710452014,1\\n',\n",
       " '42.0754545384731,78.84478600148043,0\\n',\n",
       " '75.47770200533905,90.42453899753964,1\\n',\n",
       " '78.63542434898018,96.64742716885644,1\\n',\n",
       " '52.34800398794107,60.76950525602592,0\\n',\n",
       " '94.09433112516793,77.15910509073893,1\\n',\n",
       " '90.44855097096364,87.50879176484702,1\\n',\n",
       " '55.48216114069585,35.57070347228866,0\\n',\n",
       " '74.49269241843041,84.84513684930135,1\\n',\n",
       " '89.84580670720979,45.35828361091658,1\\n',\n",
       " '83.48916274498238,48.38028579728175,1\\n',\n",
       " '42.2617008099817,87.10385094025457,1\\n',\n",
       " '99.31500880510394,68.77540947206617,1\\n',\n",
       " '55.34001756003703,64.9319380069486,1\\n',\n",
       " '74.77589300092767,89.52981289513276,1\\n']"
      ]
     },
     "execution_count": 75,
     "metadata": {},
     "output_type": "execute_result"
    }
   ],
   "source": [
    "lines"
   ]
  },
  {
   "cell_type": "code",
   "execution_count": 71,
   "metadata": {},
   "outputs": [
    {
     "name": "stdout",
     "output_type": "stream",
     "text": [
      "34.62365962451697,78.0246928153624,0\n",
      "30.28671076822607,43.89499752400101,0\n",
      "35.84740876993872,72.90219802708364,0\n",
      "60.18259938620976,86.30855209546826,1\n",
      "79.0327360507101,75.3443764369103,1\n",
      "45.08327747668339,56.3163717815305,0\n",
      "61.10666453684766,96.51142588489624,1\n",
      "75.02474556738889,46.55401354116538,1\n",
      "76.09878670226257,87.42056971926803,1\n",
      "84.43281996120035,43.53339331072109,1\n",
      "95.86155507093572,38.22527805795094,0\n",
      "75.01365838958247,30.60326323428011,0\n",
      "82.30705337399482,76.48196330235604,1\n",
      "69.36458875970939,97.71869196188608,1\n",
      "39.53833914367223,76.03681085115882,0\n",
      "53.9710521485623,89.20735013750205,1\n",
      "69.07014406283025,52.74046973016765,1\n",
      "67.94685547711617,46.67857410673128,0\n",
      "70.66150955499435,92.92713789364831,1\n",
      "76.97878372747498,47.57596364975532,1\n",
      "67.37202754570876,42.83843832029179,0\n",
      "89.67677575072079,65.79936592745237,1\n",
      "50.534788289883,48.85581152764205,0\n",
      "34.21206097786789,44.20952859866288,0\n",
      "77.9240914545704,68.9723599933059,1\n",
      "62.27101367004632,69.95445795447587,1\n",
      "80.1901807509566,44.82162893218353,1\n",
      "93.114388797442,38.80067033713209,0\n",
      "61.83020602312595,50.25610789244621,0\n",
      "38.78580379679423,64.99568095539578,0\n",
      "61.379289447425,72.80788731317097,1\n",
      "85.40451939411645,57.05198397627122,1\n",
      "52.10797973193984,63.12762376881715,0\n",
      "52.04540476831827,69.43286012045222,1\n",
      "40.23689373545111,71.16774802184875,0\n",
      "54.63510555424817,52.21388588061123,0\n",
      "33.91550010906887,98.86943574220611,0\n",
      "64.17698887494485,80.90806058670817,1\n",
      "74.78925295941542,41.57341522824434,0\n",
      "34.1836400264419,75.2377203360134,0\n",
      "83.90239366249155,56.30804621605327,1\n",
      "51.54772026906181,46.85629026349976,0\n",
      "94.44336776917852,65.56892160559052,1\n",
      "82.36875375713919,40.61825515970618,0\n",
      "51.04775177128865,45.82270145776001,0\n",
      "62.22267576120188,52.06099194836679,0\n",
      "77.19303492601364,70.45820000180959,1\n",
      "97.77159928000232,86.7278223300282,1\n",
      "62.07306379667647,96.76882412413983,1\n",
      "91.56497449807442,88.69629254546599,1\n",
      "79.94481794066932,74.16311935043758,1\n",
      "99.2725269292572,60.99903099844988,1\n",
      "90.54671411399852,43.39060180650027,1\n",
      "34.52451385320009,60.39634245837173,0\n",
      "50.2864961189907,49.80453881323059,0\n",
      "49.58667721632031,59.80895099453265,0\n",
      "97.64563396007767,68.86157272420604,1\n",
      "32.57720016809309,95.59854761387875,0\n",
      "74.24869136721598,69.82457122657193,1\n",
      "71.79646205863379,78.45356224515052,1\n",
      "75.3956114656803,85.75993667331619,1\n",
      "35.28611281526193,47.02051394723416,0\n",
      "56.25381749711624,39.26147251058019,0\n",
      "30.05882244669796,49.59297386723685,0\n",
      "44.66826172480893,66.45008614558913,0\n",
      "66.56089447242954,41.09209807936973,0\n",
      "40.45755098375164,97.53518548909936,1\n",
      "49.07256321908844,51.88321182073966,0\n",
      "80.27957401466998,92.11606081344084,1\n",
      "66.74671856944039,60.99139402740988,1\n",
      "32.72283304060323,43.30717306430063,0\n",
      "64.0393204150601,78.03168802018232,1\n",
      "72.34649422579923,96.22759296761404,1\n",
      "60.45788573918959,73.09499809758037,1\n",
      "58.84095621726802,75.85844831279042,1\n",
      "99.82785779692128,72.36925193383885,1\n",
      "47.26426910848174,88.47586499559782,1\n",
      "50.45815980285988,75.80985952982456,1\n",
      "60.45555629271532,42.50840943572217,0\n",
      "82.22666157785568,42.71987853716458,0\n",
      "88.9138964166533,69.80378889835472,1\n",
      "94.83450672430196,45.69430680250754,1\n",
      "67.31925746917527,66.58935317747915,1\n",
      "57.23870631569862,59.51428198012956,1\n",
      "80.36675600171273,90.96014789746954,1\n",
      "68.46852178591112,85.59430710452014,1\n",
      "42.0754545384731,78.84478600148043,0\n",
      "75.47770200533905,90.42453899753964,1\n",
      "78.63542434898018,96.64742716885644,1\n",
      "52.34800398794107,60.76950525602592,0\n",
      "94.09433112516793,77.15910509073893,1\n",
      "90.44855097096364,87.50879176484702,1\n",
      "55.48216114069585,35.57070347228866,0\n",
      "74.49269241843041,84.84513684930135,1\n",
      "89.84580670720979,45.35828361091658,1\n",
      "83.48916274498238,48.38028579728175,1\n",
      "42.2617008099817,87.10385094025457,1\n",
      "99.31500880510394,68.77540947206617,1\n",
      "55.34001756003703,64.9319380069486,1\n",
      "74.77589300092767,89.52981289513276,1\n"
     ]
    }
   ],
   "source": [
    "with open('ex2data1.txt') as f:\n",
    "    for line in f:\n",
    "        print(line.strip())"
   ]
  },
  {
   "cell_type": "code",
   "execution_count": 65,
   "metadata": {},
   "outputs": [
    {
     "ename": "ValueError",
     "evalue": "not enough values to unpack (expected 2, got 1)",
     "output_type": "error",
     "traceback": [
      "\u001b[0;31m---------------------------------------------------------------------------\u001b[0m",
      "\u001b[0;31mValueError\u001b[0m                                Traceback (most recent call last)",
      "\u001b[0;32m<ipython-input-65-4f76a94c1995>\u001b[0m in \u001b[0;36m<module>\u001b[0;34m\u001b[0m\n\u001b[0;32m----> 1\u001b[0;31m \u001b[0mx_train\u001b[0m\u001b[0;34m,\u001b[0m\u001b[0my_train\u001b[0m \u001b[0;34m=\u001b[0m \u001b[0mpd\u001b[0m\u001b[0;34m.\u001b[0m\u001b[0mread_fwf\u001b[0m\u001b[0;34m(\u001b[0m\u001b[0;34m'./ex2data1.txt'\u001b[0m\u001b[0;34m)\u001b[0m\u001b[0;34m\u001b[0m\u001b[0;34m\u001b[0m\u001b[0m\n\u001b[0m",
      "\u001b[0;31mValueError\u001b[0m: not enough values to unpack (expected 2, got 1)"
     ]
    }
   ],
   "source": [
    "x_train,y_train = pd.read_fwf('./ex2data1.txt')"
   ]
  },
  {
   "cell_type": "markdown",
   "metadata": {},
   "source": [
    "<a name='3'></a>\n",
    "\n",
    "## regularized logistic regression"
   ]
  },
  {
   "cell_type": "code",
   "execution_count": null,
   "metadata": {},
   "outputs": [],
   "source": []
  }
 ],
 "metadata": {
  "kernelspec": {
   "display_name": "Python 3",
   "language": "python",
   "name": "python3"
  },
  "language_info": {
   "codemirror_mode": {
    "name": "ipython",
    "version": 3
   },
   "file_extension": ".py",
   "mimetype": "text/x-python",
   "name": "python",
   "nbconvert_exporter": "python",
   "pygments_lexer": "ipython3",
   "version": "3.8.5"
  }
 },
 "nbformat": 4,
 "nbformat_minor": 4
}
